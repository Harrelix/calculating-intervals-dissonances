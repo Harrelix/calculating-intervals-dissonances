{
  "cells": [
    {
      "cell_type": "markdown",
      "metadata": {
        "id": "xhW2ztw_cUzQ"
      },
      "source": [
        "# Setting up"
      ]
    },
    {
      "cell_type": "code",
      "execution_count": null,
      "metadata": {
        "colab": {
          "base_uri": "https://localhost:8080/"
        },
        "id": "T6za6vlATiOD",
        "outputId": "39181d24-d4ad-488b-fe9e-61b14b119d27"
      },
      "outputs": [],
      "source": [
        "!git clone https://github.com/Harrelix/calculating-intervals-dissonances\n",
        "%cd calculating-intervals-dissonances\n"
      ]
    },
    {
      "cell_type": "code",
      "execution_count": null,
      "metadata": {
        "colab": {
          "base_uri": "https://localhost:8080/"
        },
        "id": "POnLWEcEaO-w",
        "outputId": "86fb9b18-81d1-4678-dd64-ab73837e9961"
      },
      "outputs": [],
      "source": [
        "# for generating images\n",
        "!pip install kaleido "
      ]
    },
    {
      "cell_type": "code",
      "execution_count": null,
      "metadata": {
        "id": "7WGBM0qPTS1K"
      },
      "outputs": [],
      "source": [
        "# imports\n",
        "from synth import Osc, Synth, Tone\n",
        "from dissonance_calculator import dissonance_total\n",
        "import plotly.graph_objects as go\n",
        "import numpy as np\n",
        "import os"
      ]
    },
    {
      "cell_type": "code",
      "execution_count": null,
      "metadata": {
        "id": "6s2c4eBDTS1T"
      },
      "outputs": [],
      "source": [
        "#@title Parameters\n",
        "\n",
        "\n",
        "# base note of the intervals to calculate the dissonance of\n",
        "BASE_NOTE_NAME = \"C\" #@param [\"A\", \"B\", \"C\", \"D\", \"E\", \"F\", \"G\"]\n",
        "BASE_NOTE_OCTAVE = 4 #@param {type:\"integer\"}\n",
        "BASE_NOTE = BASE_NOTE_NAME + str(BASE_NOTE_OCTAVE)\n",
        "# convert to frequency\n",
        "base_freq = Tone.from_name(BASE_NOTE).freq\n",
        "\n",
        "# number of overtones to calculate\n",
        "NUM_OVERS = 10 #@param {type:\"integer\"}\n",
        "# base pressure of the fundamental\n",
        "BASE_P = 0.02 #@param {type:\"number\"}\n",
        "# resolution of the graphs\n",
        "NX = 100 #@param {type:\"integer\"}\n",
        "NY = 100#@param {type:\"integer\"}\n"
      ]
    },
    {
      "cell_type": "markdown",
      "metadata": {
        "id": "4QHjpgpRTS1W"
      },
      "source": [
        "## Create example sound generators"
      ]
    },
    {
      "cell_type": "code",
      "execution_count": null,
      "metadata": {
        "id": "17dzgeSdTS1Y"
      },
      "outputs": [],
      "source": [
        "# Simple sine with multiple voices, one is an octave lower\n",
        "a = Osc.sine_osc(voices=3, detune=0.05,p=BASE_P, phase_random_range=0)\n",
        "b = Osc.sine_osc(pitch=-12, p=BASE_P * 0.5)\n",
        "SineSynth = Synth([a, b])\n"
      ]
    },
    {
      "cell_type": "code",
      "execution_count": null,
      "metadata": {
        "id": "YrmhowO4TS1a"
      },
      "outputs": [],
      "source": [
        "# Saw sound\n",
        "def saw(i, n):\n",
        "    return (-1 ** n) * i / n\n",
        "a = Osc(decay=saw, num_overs=NUM_OVERS, p=BASE_P, phase_random_range=0)\n",
        "SawSynth = Synth([a])\n"
      ]
    },
    {
      "cell_type": "markdown",
      "metadata": {
        "id": "BbmAtexbTS1c"
      },
      "source": [
        "### Test the sounds"
      ]
    },
    {
      "cell_type": "code",
      "execution_count": null,
      "metadata": {
        "colab": {
          "base_uri": "https://localhost:8080/",
          "height": 61
        },
        "id": "WamR3awbTS1e",
        "outputId": "12ca4eb5-f409-4495-de26-b09f3a518097"
      },
      "outputs": [],
      "source": [
        "SineSynth.play([\"C4\", \"E4\"])"
      ]
    },
    {
      "cell_type": "code",
      "execution_count": null,
      "metadata": {
        "colab": {
          "base_uri": "https://localhost:8080/",
          "height": 61
        },
        "id": "BhWpo7AUTS1h",
        "outputId": "12bbb02d-63b3-409c-fb42-2415d3577867"
      },
      "outputs": [],
      "source": [
        "SawSynth.play([\"C4\", \"E4\"])"
      ]
    },
    {
      "cell_type": "markdown",
      "metadata": {
        "id": "5F5EBB1BTS1j"
      },
      "source": [
        "### Visualize the sound being made"
      ]
    },
    {
      "cell_type": "code",
      "execution_count": null,
      "metadata": {
        "colab": {
          "base_uri": "https://localhost:8080/",
          "height": 542
        },
        "id": "tNIV4U2rTS1l",
        "outputId": "6e6f7139-91b2-437f-d95a-cfa55ff7126b"
      },
      "outputs": [],
      "source": [
        "secs = 0.05\n",
        "rate = 44100\n",
        "S = SawSynth\n",
        "notes = [\"C4\", \"E4\"]\n",
        "\n",
        "tones = S.get_tones(notes)\n",
        "ts = np.linspace(0.0, secs, int(rate * secs))\n",
        "data = np.sum( \n",
        "    [\n",
        "        tone.p * (2 ** 0.5) * np.sin(2 * np.pi * tone.freq * ts + tone.phase)\n",
        "        for tone in tones\n",
        "    ],\n",
        "    axis=0,\n",
        ")\n",
        "\n",
        "fig = go.Figure()\n",
        "fig.add_trace(go.Scatter(x=ts, y=data))\n",
        "fig.update_xaxes(title_text='Time (s)')\n",
        "fig.update_yaxes(title_text='Pressure (Pa)')\n",
        "fig.show()\n"
      ]
    },
    {
      "cell_type": "markdown",
      "metadata": {
        "id": "yeBKCw3qTS1o"
      },
      "source": [
        "# Graph the dissonance over intervals from base frequency"
      ]
    },
    {
      "cell_type": "code",
      "execution_count": null,
      "metadata": {
        "id": "quiq8-dDTS1p"
      },
      "outputs": [],
      "source": [
        "# Interval names and values\n",
        "intervals = [\"P1\", \"m2\", \"M2\", \"m3\", \"M3\", \"P4\", \"TT\", \"P5\", \"m6\", \"M6\", \"m7\", \"M7\", \"P8\", \"m9\", \"M9\"]\n",
        "interval_vals = [round(base_freq * 2 ** (i / 12), 3) for i in range(len(intervals))]"
      ]
    },
    {
      "cell_type": "code",
      "execution_count": null,
      "metadata": {
        "colab": {
          "base_uri": "https://localhost:8080/",
          "height": 537
        },
        "id": "ROkvpswxTS1q",
        "outputId": "00ef093e-ae7b-4ee7-9983-8f6e5fbe22c3"
      },
      "outputs": [],
      "source": [
        "# choose the synth\n",
        "S = SawSynth\n",
        "\n",
        "# axes mesh\n",
        "xs = np.linspace(base_freq, base_freq * 2.5, NX)\n",
        "tones = [S.get_tones([base_freq, f]) for f in xs]\n",
        "ys = [dissonance_total([t.freq for t in tone], [t.p for t in tone]) for tone in tones]\n",
        "\n",
        "# make graphs\n",
        "fig = go.Figure()\n",
        "fig.add_trace(go.Scatter(x=xs, y=ys, mode=\"lines\"))\n",
        "\n",
        "# make it pretty\n",
        "fig.update_layout(width=1600, height=500)\n",
        "fig.update_xaxes(\n",
        "    ticktext=intervals,\n",
        "    tickvals=interval_vals,\n",
        "    title_text=\"Intervals\",\n",
        "    type=\"log\"\n",
        ")\n",
        "fig.update_yaxes(title_text=\"Dissonance\")\n",
        "\n",
        "fig.show()\n"
      ]
    },
    {
      "cell_type": "code",
      "execution_count": null,
      "metadata": {
        "id": "Jvebmp-VTS1s"
      },
      "outputs": [],
      "source": [
        "# saving the graph as png\n",
        "if not os.path.exists(\"images\"):\n",
        "    os.mkdir(\"images\")\n",
        "fig.write_image(f\"images/intervals from {BASE_NOTE}.png\")"
      ]
    },
    {
      "cell_type": "markdown",
      "metadata": {
        "id": "aGWtDtGDTS1t"
      },
      "source": [
        "# Graph all the triads' dissonance \n",
        "*(the triads' root note will have a frequency of base_freq)*  \n",
        "*takes around 2 minutes if*\n",
        "$NX * NY * NUM\\_ OVERS^2 = 100 * 100 * 10^2$"
      ]
    },
    {
      "cell_type": "code",
      "execution_count": null,
      "metadata": {
        "id": "T3V7884-TS1v"
      },
      "outputs": [],
      "source": [
        "# Dissonance calculation\n",
        "# will be more efficient if we only calculate half of the possible intervals since it's symmetrical\n",
        "\n",
        "# axes mesh\n",
        "xs = np.linspace(base_freq, base_freq * 2.5, NX)\n",
        "ys = np.linspace(base_freq, base_freq * 2.5, NY)\n",
        "zs = np.zeros((NX, NY))\n",
        "\n",
        "# calculate dissonance\n",
        "for i in range(NX):\n",
        "    for j in range(NY):\n",
        "        tones = S.get_tones([base_freq, xs[i], ys[j]])\n",
        "        zs[i, j] = dissonance_total([tone.freq for tone in tones], [tone.p for tone in tones])\n"
      ]
    },
    {
      "cell_type": "markdown",
      "metadata": {
        "id": "Jk83cJssTS1w"
      },
      "source": [
        "## 3D graph"
      ]
    },
    {
      "cell_type": "code",
      "execution_count": null,
      "metadata": {
        "colab": {
          "base_uri": "https://localhost:8080/",
          "height": 817
        },
        "id": "IKzNnvPnTS1x",
        "outputId": "1ac55a4d-8646-46e9-becf-f4adf6a7deac"
      },
      "outputs": [],
      "source": [
        "fig = go.Figure()\n",
        "fig.add_trace(go.Surface(z=zs, x=xs, y=ys))\n",
        "\n",
        "fig.update_layout(\n",
        "    scene = dict(\n",
        "        xaxis = dict(\n",
        "            ticktext=intervals,\n",
        "            tickvals=interval_vals,\n",
        "            title_text=\"Interval\",\n",
        "            type=\"log\"\n",
        "        ),\n",
        "        yaxis = dict(\n",
        "            ticktext=intervals,\n",
        "            tickvals=interval_vals,\n",
        "            title_text=\"Interval\",\n",
        "            type=\"log\"\n",
        "        ),\n",
        "        zaxis = dict(showticklabels=False, title=\"Dissonance\"),\n",
        "    ),\n",
        "    scene_camera = dict(\n",
        "        eye=dict(x=1.5, y=1.25, z=1),\n",
        "        center=dict(x=0, y=0, z=-0.2)\n",
        "    ),\n",
        "    width=800, height=800\n",
        ")\n",
        "fig.show()\n",
        "\n"
      ]
    },
    {
      "cell_type": "code",
      "execution_count": null,
      "metadata": {
        "id": "AeEvdj5OTS1y"
      },
      "outputs": [],
      "source": [
        "# saving the graph as png\n",
        "if not os.path.exists(\"images\"):\n",
        "    os.mkdir(\"images\")\n",
        "fig.write_image(f\"images/{BASE_NOTE} triads.png\")"
      ]
    },
    {
      "cell_type": "markdown",
      "metadata": {
        "id": "sB2rflqITS10"
      },
      "source": [
        "# 2D Heatmap"
      ]
    },
    {
      "cell_type": "code",
      "execution_count": null,
      "metadata": {
        "colab": {
          "base_uri": "https://localhost:8080/",
          "height": 817
        },
        "id": "rx771RnETS11",
        "outputId": "7963ba5b-a74f-4bd2-9294-f830323dd723"
      },
      "outputs": [],
      "source": [
        "fig = go.Figure()\n",
        "fig.add_trace(go.Heatmap(z=zs, x=xs, y=ys,))\n",
        "\n",
        "fig.update_layout(width=800, height=800)\n",
        "fig.update_xaxes(ticktext=intervals,\n",
        "    tickvals=interval_vals,\n",
        "    type=\"log\"\n",
        ")\n",
        "fig.update_yaxes(\n",
        "    ticktext=intervals,\n",
        "    tickvals=interval_vals,\n",
        "    type=\"log\"\n",
        ")\n",
        "fig.show()\n"
      ]
    },
    {
      "cell_type": "code",
      "execution_count": null,
      "metadata": {
        "id": "C4UbBWD_TS11"
      },
      "outputs": [],
      "source": [
        "# saving the graph as png\n",
        "if not os.path.exists(\"images\"):\n",
        "    os.mkdir(\"images\")\n",
        "fig.write_image(f\"images/{BASE_NOTE} triads heatmap.png\")"
      ]
    }
  ],
  "metadata": {
    "colab": {
      "provenance": []
    },
    "kernelspec": {
      "display_name": "Python 3 (ipykernel)",
      "language": "python",
      "name": "python3"
    },
    "language_info": {
      "codemirror_mode": {
        "name": "ipython",
        "version": 3
      },
      "file_extension": ".py",
      "mimetype": "text/x-python",
      "name": "python",
      "nbconvert_exporter": "python",
      "pygments_lexer": "ipython3",
      "version": "3.9.12"
    },
    "vscode": {
      "interpreter": {
        "hash": "bd97b8bffa4d3737e84826bc3d37be3046061822757ce35137ab82ad4c5a2016"
      }
    }
  },
  "nbformat": 4,
  "nbformat_minor": 0
}
